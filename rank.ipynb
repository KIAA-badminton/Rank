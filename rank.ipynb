{
 "cells": [
  {
   "cell_type": "markdown",
   "id": "69a1ce2e-363c-4272-9c5d-676abd8fd969",
   "metadata": {
    "tags": []
   },
   "source": [
    "## main"
   ]
  },
  {
   "cell_type": "code",
   "execution_count": 3,
   "id": "8b0f8396-4e5e-4a87-8680-afd9b7623df5",
   "metadata": {
    "execution": {
     "iopub.execute_input": "2023-06-28T01:06:10.778938Z",
     "iopub.status.busy": "2023-06-28T01:06:10.778445Z",
     "iopub.status.idle": "2023-06-28T01:06:10.802302Z",
     "shell.execute_reply": "2023-06-28T01:06:10.801763Z",
     "shell.execute_reply.started": "2023-06-28T01:06:10.778892Z"
    },
    "tags": []
   },
   "outputs": [],
   "source": [
    "def lim(x, lolim=0, uplim=21):\n",
    "    '''将得分限制在lolim～uplim'''\n",
    "    if x > uplim: return uplim\n",
    "    if x < lolim: return lolim\n",
    "    return x\n",
    "\n",
    "def get_score_1(p1_score, p2_score, p1_res, p2_res, _print=False):\n",
    "    '''\n",
    "    # 用于计算KIAA羽毛球俱乐部积分赛的积分（单打）\n",
    "    # 分数范围：0～200\n",
    "    # rank = 分数 / 10\n",
    "    # Parameters\n",
    "        p1_score: 比赛前P1的分数\n",
    "        p2_score: 比赛前P2的分数\n",
    "        p1_res  : 对局中P1的得分\n",
    "        p2_res  : 对局中P2的得分\n",
    "    # Returns:\n",
    "        p1_score_new: 比赛后P1的分数\n",
    "        p2_score_new: 比赛后P2的分数\n",
    "    '''\n",
    "    \n",
    "    def K(score):\n",
    "        '''放大系数'''\n",
    "        return 2 - 0.01 * score\n",
    "    \n",
    "    # 超过 20 分计为 20\n",
    "    p1_res = lim(p1_res)\n",
    "    p2_res = lim(p2_res)\n",
    "    \n",
    "    p1_exp = lim(21 + (p1_score - p2_score) / 10 * 4, lolim=6)  # P1的预期得分\n",
    "    p2_exp = lim(21 - (p1_score - p2_score) / 10 * 4, lolim=6)  # P2的预期得分\n",
    "    \n",
    "    # 实际得分和预期的差\n",
    "    dif = (p1_res - p1_exp) - (p2_res - p2_exp)\n",
    "    if _print:\n",
    "        print(\"预期比分: {:.1f} : {:.1f}\".format(p1_exp, p2_exp))\n",
    "        print(\"实际比分: {:.1f} : {:.1f}\".format(p1_res, p2_res))\n",
    "    \n",
    "    p1_score_new = lim(p1_score + K(p1_score) * dif, uplim=200)\n",
    "    p2_score_new = lim(p2_score - K(p2_score) * dif, uplim=200)\n",
    "    if _print:\n",
    "        print(\"赛后双方的分数变化：\")\n",
    "        print(\"P1: {:.1f} --> {:.1f}\\nP2: {:.1f} --> {:.1f}\".format(p1_score, p1_score_new,\n",
    "                                                                p2_score, p2_score_new))\n",
    "    return p1_score_new, p2_score_new\n",
    "\n",
    "\n",
    "def get_score_2(t1_p1_score, t1_p2_score, t2_p1_score, t2_p2_score, t1_res, t2_res):\n",
    "    '''\n",
    "    # 用于计算双打积分\n",
    "    # Parameters\n",
    "        t1(2)_p1(2)_score: 比赛前Team1(2)中P1(2)的分数\n",
    "        t1(2)_res  : 对局中Team1(2)的得分\n",
    "    # Returns:\n",
    "        t1(2)_p1(2)_score_new: 比赛后Team1(2)中P1(2)的分数\n",
    "    '''\n",
    "    t1 = (t1_p1_score + t1_p2_score) / 2\n",
    "    t2 = (t2_p1_score + t2_p2_score) / 2\n",
    "    t1_new, t2_new = get_score_1(t1, t2, t1_res, t2_res)\n",
    "    \n",
    "    t1_p1_score_new = lim( t1_p1_score + (t1_new - t1) / 2, uplim=200)\n",
    "    t1_p2_score_new = lim( t1_p2_score + (t1_new - t1) / 2, uplim=200)\n",
    "    t2_p1_score_new = lim( t2_p1_score + (t2_new - t2) / 2, uplim=200)\n",
    "    t2_p2_score_new = lim( t2_p2_score + (t2_new - t2) / 2, uplim=200)\n",
    "    \n",
    "    return t1_p1_score_new, t1_p2_score_new, t2_p1_score_new, t2_p2_score_new\n",
    "\n",
    "\n",
    "def update_data(t1_p1, t1_p2, res1, res2, t2_p1=None, t2_p2=None):\n",
    "    '''\n",
    "    # 用于更新数据库中的积分\n",
    "    # Parameters\n",
    "        t1(2)_p1(2): Team1(2)中P1(2)的姓名拼音（单打只有Team1）\n",
    "        res1(2)    : 对局比分\n",
    "    '''\n",
    "    if t2_p1 is None:\n",
    "        data[t1_p1], data[t1_p2] = get_score_1(data[t1_p1], data[t1_p2], res1, res2)\n",
    "    else:\n",
    "        data[t1_p1], data[t1_p2], data[t2_p1], data[t2_p2] = \\\n",
    "        get_score_2(data[t1_p1], data[t1_p2], data[t2_p1], data[t2_p2], res1, res2)\n",
    "    np.save(\"kiaa_bmt_data_202306.npy\", data)\n",
    "    \n",
    "def add_player(name, score):\n",
    "    data[name] = score\n",
    "    np.save(\"kiaa_bmt_data_202306.npy\", data)\n",
    "    \n",
    "def del_player(name):\n",
    "    del data[name]\n",
    "    np.save(\"kiaa_bmt_data_202306.npy\", data)"
   ]
  },
  {
   "cell_type": "code",
   "execution_count": 27,
   "id": "46fe393e-5ff2-4d0c-98f7-303507f8a11f",
   "metadata": {
    "execution": {
     "iopub.execute_input": "2023-06-28T01:14:49.900684Z",
     "iopub.status.busy": "2023-06-28T01:14:49.900186Z",
     "iopub.status.idle": "2023-06-28T01:14:49.906958Z",
     "shell.execute_reply": "2023-06-28T01:14:49.906368Z",
     "shell.execute_reply.started": "2023-06-28T01:14:49.900636Z"
    },
    "tags": []
   },
   "outputs": [],
   "source": [
    "# 读取以字典形式存储的数据 (May)\n",
    "data = np.load(\"kiaa_bmt_data_202305.npy\", allow_pickle=True).item()"
   ]
  },
  {
   "cell_type": "code",
   "execution_count": 28,
   "id": "7c7e2fec-9ce9-4d60-89c9-e599e727ffcb",
   "metadata": {
    "execution": {
     "iopub.execute_input": "2023-06-28T01:14:50.276351Z",
     "iopub.status.busy": "2023-06-28T01:14:50.275860Z",
     "iopub.status.idle": "2023-06-28T01:14:50.305775Z",
     "shell.execute_reply": "2023-06-28T01:14:50.305388Z",
     "shell.execute_reply.started": "2023-06-28T01:14:50.276305Z"
    },
    "tags": []
   },
   "outputs": [
    {
     "data": {
      "text/plain": [
       "[('WangShun', 148.86846033644943),\n",
       " ('PanZhiwei', 147.74453076865314),\n",
       " ('XuFengwei', 118.96267129618755),\n",
       " ('LiHulin', 118.56331092500001),\n",
       " ('LiuChengqi', 110.45864573031747),\n",
       " ('ChenChanghao', 91.23944374520879),\n",
       " ('FuShuqi', 89.31911350795728),\n",
       " ('ShiYangfan', 84.86161182866392),\n",
       " ('WangHuimei', 78.54615132370895),\n",
       " ('LyuCheqiu', 77.16881446462628),\n",
       " ('FengQikang', 69.12306062674818),\n",
       " ('ZouSiwei', 68.81674128809773),\n",
       " ('XuFuxiang', 68.33249053559217),\n",
       " ('SunShengxiu', 68.22753682319853),\n",
       " ('HuangQifeng', 68.0488549899664),\n",
       " ('ChenPing', 66.83326065731961),\n",
       " ('XueZihan', 66.279815),\n",
       " ('YuNiankun', 64.5812487929062),\n",
       " ('ZhangLulu', 58.1005929758376),\n",
       " ('Alex', 50.41543355102106),\n",
       " ('LinXiaojing', 46.21477418594659),\n",
       " ('ZuoPei', 34.762363792906186),\n",
       " ('ZhuRui', 31.966500492220867),\n",
       " ('YinGaocheng', 25.271768112598),\n",
       " ('YueNannan', 10),\n",
       " ('ChenSiyuan', 3.543825117327227)]"
      ]
     },
     "execution_count": 28,
     "metadata": {},
     "output_type": "execute_result"
    }
   ],
   "source": [
    "# 6/6\n",
    "update_data(\"Alex\", \"XuFuxiang\", 17, 21)\n",
    "update_data(\"SunShengxiu\", \"XuFuxiang\", 21, 8)\n",
    "update_data(\"PanZhiwei\", \"XuFengwei\", 21, 15, \"WangShun\", \"LiuChengqi\")\n",
    "add_player(\"ChenPing\", 83.76477)\n",
    "update_data(\"PanZhiwei\", \"WangShun\", 15, 21)\n",
    "update_data(\"PanZhiwei\", \"XuFengwei\", 21, 14, \"WangShun\", \"XuFuxiang\")\n",
    "update_data(\"PanZhiwei\", \"WangShun\", 21, 13, \"XuFengwei\", \"LiuChengqi\")\n",
    "update_data(\"PanZhiwei\", \"Alex\", 21, 16, \"WangShun\", \"FuShuqi\")\n",
    "update_data(\"PanZhiwei\", \"XuFengwei\", 21, 12, \"WangShun\", \"HuangQifeng\")\n",
    "update_data(\"PanZhiwei\", \"SunShengxiu\", 14, 21, \"WangShun\", \"LiuChengqi\")\n",
    "update_data(\"PanZhiwei\", \"HuangQifeng\", 18, 21, \"WangShun\", \"FuShuqi\")\n",
    "\n",
    "# 6/13\n",
    "update_data(\"HuangQifeng\", \"FengQikang\", 21, 19, \"XuFuxiang\", \"ShiYangfan\")\n",
    "update_data(\"HuangQifeng\", \"ChenPing\", 21, 18, \"XuFuxiang\", \"ZhuRui\")\n",
    "update_data(\"HuangQifeng\", \"ZhuRui\", 10, 21, \"XuFuxiang\", \"ShiYangfan\")\n",
    "update_data(\"PanZhiwei\", \"FuShuqi\", 21, 19, \"WangShun\", \"XuFengwei\")\n",
    "update_data(\"PanZhiwei\", \"FuShuqi\", 21, 12, \"WangShun\", \"ChenPing\")\n",
    "update_data(\"PanZhiwei\", \"FuShuqi\", 19, 21, \"WangShun\", \"ShiYangfan\")\n",
    "\n",
    "update_data(\"PanZhiwei\", \"WangShun\", 12, 21)\n",
    "update_data(\"PanZhiwei\", \"ShiYangfan\", 21, 16, \"WangShun\", \"XuFuxiang\")\n",
    "\n",
    "# 6/20\n",
    "update_data(\"XuFuxiang\", \"LyuCheqiu\", 14, 21, \"ShiYangfan\", \"SunShengxiu\")\n",
    "update_data(\"XuFuxiang\", \"LyuCheqiu\", 21, 16, \"ShiYangfan\", \"SunShengxiu\")\n",
    "update_data(\"XuFuxiang\", \"LyuCheqiu\", 13, 21, \"ShiYangfan\", \"SunShengxiu\")\n",
    "update_data(\"XuFuxiang\", \"LyuCheqiu\", 21, 16, \"ShiYangfan\", \"SunShengxiu\")\n",
    "\n",
    "\n",
    "# 6/27\n",
    "del_player(\"FeiQinyue\")\n",
    "update_data(\"ZouSiwei\", \"ShiYangfan\", 21, 11, \"XuFuxiang\", \"ChenPing\")\n",
    "add_player(\"ChenChanghao\", 91.23944374520879)\n",
    "update_data(\"PanZhiwei\", \"FuShuqi\", 21, 8, \"XuFengwei\", \"ZouSiwei\")\n",
    "update_data(\"PanZhiwei\", \"XuFuxiang\", 21, 14, \"WangShun\", \"ShiYangfan\")\n",
    "update_data(\"PanZhiwei\", \"ZouSiwei\", 21, 16, \"XuFengwei\", \"FuShuqi\")\n",
    "update_data(\"PanZhiwei\", \"FuShuqi\", 21, 18, \"WangShun\", \"ZouSiwei\")\n",
    "update_data(\"PanZhiwei\", \"XuFuxiang\", 16, 21, \"WangShun\", \"ZouSiwei\")\n",
    "\n",
    "sorted(data.items(), key=lambda x:x[1], reverse=1)"
   ]
  },
  {
   "cell_type": "markdown",
   "id": "2e58ce65-ff4a-447a-81f6-12b6c159359f",
   "metadata": {
    "jp-MarkdownHeadingCollapsed": true,
    "tags": []
   },
   "source": [
    "## .csv to .npy"
   ]
  },
  {
   "cell_type": "code",
   "execution_count": 62,
   "id": "01433aa6-3067-495f-923f-7849c2946890",
   "metadata": {
    "execution": {
     "iopub.execute_input": "2023-05-10T11:31:17.741874Z",
     "iopub.status.busy": "2023-05-10T11:31:17.741392Z",
     "iopub.status.idle": "2023-05-10T11:31:17.750967Z",
     "shell.execute_reply": "2023-05-10T11:31:17.750441Z",
     "shell.execute_reply.started": "2023-05-10T11:31:17.741827Z"
    },
    "tags": []
   },
   "outputs": [],
   "source": [
    "import pandas as pd\n",
    "import numpy as np\n",
    "\n",
    "data = pd.read_csv(\"data.csv\")\n",
    "dict1 = dict(zip(data['name'],data['score']))\n",
    "np.save('kiaa_bmt_data.npy', dict1)"
   ]
  },
  {
   "cell_type": "markdown",
   "id": "db9116c7-10fa-408d-8fb7-fe5468089633",
   "metadata": {
    "tags": []
   },
   "source": [
    "## .npy to .csv"
   ]
  },
  {
   "cell_type": "code",
   "execution_count": 29,
   "id": "d4235de3-4b3c-4be3-9027-9d57354f3cb3",
   "metadata": {
    "execution": {
     "iopub.execute_input": "2023-06-28T01:14:53.634898Z",
     "iopub.status.busy": "2023-06-28T01:14:53.634628Z",
     "iopub.status.idle": "2023-06-28T01:14:53.646193Z",
     "shell.execute_reply": "2023-06-28T01:14:53.645453Z",
     "shell.execute_reply.started": "2023-06-28T01:14:53.634874Z"
    },
    "tags": []
   },
   "outputs": [],
   "source": [
    "import pandas as pd\n",
    "d = pd.DataFrame(columns=[\"Name\", \"Score\"])\n",
    "d[\"Name\"] = data.keys()\n",
    "d[\"Score\"] = np.round(np.fromiter(data.values(), dtype=float), 1)\n",
    "d= d.sort_values(\"Score\", ascending=0)\n",
    "d.to_csv(\"data.csv\", index=None)"
   ]
  },
  {
   "cell_type": "markdown",
   "id": "4af98069-98a3-49c9-8709-7ffa731c2e59",
   "metadata": {
    "execution": {
     "iopub.execute_input": "2023-05-14T06:52:36.203797Z",
     "iopub.status.busy": "2023-05-14T06:52:36.203297Z",
     "iopub.status.idle": "2023-05-14T06:52:36.209493Z",
     "shell.execute_reply": "2023-05-14T06:52:36.208917Z",
     "shell.execute_reply.started": "2023-05-14T06:52:36.203750Z"
    },
    "tags": []
   },
   "source": [
    "## github"
   ]
  },
  {
   "cell_type": "code",
   "execution_count": 30,
   "id": "855446b0-9bf4-4d92-b8c0-acf67e6ea04c",
   "metadata": {
    "execution": {
     "iopub.execute_input": "2023-06-28T01:14:55.528683Z",
     "iopub.status.busy": "2023-06-28T01:14:55.528380Z",
     "iopub.status.idle": "2023-06-28T01:14:55.537360Z",
     "shell.execute_reply": "2023-06-28T01:14:55.536580Z",
     "shell.execute_reply.started": "2023-06-28T01:14:55.528650Z"
    },
    "tags": []
   },
   "outputs": [
    {
     "name": "stdout",
     "output_type": "stream",
     "text": [
      "WangShun 148.9 \n",
      "\n",
      "PanZhiwei 147.7 \n",
      "\n",
      "XuFengwei 119.0 \n",
      "\n",
      "LiHulin 118.6 \n",
      "\n",
      "LiuChengqi 110.5 \n",
      "\n",
      "ChenChanghao 91.2 \n",
      "\n",
      "FuShuqi 89.3 \n",
      "\n",
      "ShiYangfan 84.9 \n",
      "\n",
      "WangHuimei 78.5 \n",
      "\n",
      "LyuCheqiu 77.2 \n",
      "\n",
      "FengQikang 69.1 \n",
      "\n",
      "ZouSiwei 68.8 \n",
      "\n",
      "XuFuxiang 68.3 \n",
      "\n",
      "SunShengxiu 68.2 \n",
      "\n",
      "HuangQifeng 68.0 \n",
      "\n",
      "ChenPing 66.8 \n",
      "\n",
      "XueZihan 66.3 \n",
      "\n",
      "YuNiankun 64.6 \n",
      "\n",
      "ZhangLulu 58.1 \n",
      "\n",
      "Alex 50.4 \n",
      "\n",
      "LinXiaojing 46.2 \n",
      "\n",
      "ZuoPei 34.8 \n",
      "\n",
      "ZhuRui 32.0 \n",
      "\n",
      "YinGaocheng 25.3 \n",
      "\n",
      "YueNannan 10 \n",
      "\n",
      "ChenSiyuan 3.5 \n",
      "\n"
     ]
    }
   ],
   "source": [
    "for i in sorted(data.items(), key=lambda x:x[1], reverse=1):\n",
    "    print(i[0], round(i[1],1), \"\\n\")"
   ]
  },
  {
   "cell_type": "markdown",
   "id": "394419af-7255-4c47-a0f4-4c27d431e147",
   "metadata": {
    "tags": []
   },
   "source": [
    "## "
   ]
  },
  {
   "cell_type": "code",
   "execution_count": 7,
   "id": "5167e833-ed75-4132-bf74-e46e6c0f0106",
   "metadata": {
    "execution": {
     "iopub.execute_input": "2023-05-31T14:58:04.899453Z",
     "iopub.status.busy": "2023-05-31T14:58:04.898955Z",
     "iopub.status.idle": "2023-05-31T14:58:04.937051Z",
     "shell.execute_reply": "2023-05-31T14:58:04.936723Z",
     "shell.execute_reply.started": "2023-05-31T14:58:04.899406Z"
    },
    "tags": []
   },
   "outputs": [
    {
     "data": {
      "text/plain": [
       "[('PanZhiwei', 144.5801281337523),\n",
       " ('WangShun', 140.81544592734835),\n",
       " ('XuFengwei', 128.29872588028758),\n",
       " ('LiHulin', 118.56331092500001),\n",
       " ('LiuChengqi', 109.30764463607882),\n",
       " ('FeiQinyue', 100),\n",
       " ('FuShuqi', 96.11935283552342),\n",
       " ('ShiYangfan', 89.86430994541885),\n",
       " ('WangHuimei', 78.54615132370895),\n",
       " ('HuangQifeng', 75.07210757578628),\n",
       " ('SunShengxiu', 74.25167604138417),\n",
       " ('FengQikang', 68.35127664651144),\n",
       " ('XueZihan', 66.279815),\n",
       " ('YuNiankun', 64.5812487929062),\n",
       " ('LyuCheqiu', 64.44818038492905),\n",
       " ('ZhangLulu', 58.1005929758376),\n",
       " ('ZouSiwei', 53.53083233038423),\n",
       " ('Alex', 46.603568929316054),\n",
       " ('LinXiaojing', 46.21477418594659),\n",
       " ('XuFuxiang', 46.13575807585328),\n",
       " ('ZuoPei', 34.762363792906186),\n",
       " ('YinGaocheng', 25.271768112598),\n",
       " ('ZhuRui', 23.543825117327227),\n",
       " ('YueNannan', 10),\n",
       " ('ChenSiyuan', 3.543825117327227)]"
      ]
     },
     "execution_count": 7,
     "metadata": {},
     "output_type": "execute_result"
    }
   ],
   "source": [
    "# 比赛\n",
    "update_data(\"WangShun\", \"FuShuqi\", 21,  8, \"LiHulin\", \"LinXiaojing\")\n",
    "update_data(\"WangShun\", \"FuShuqi\", 21, 13, \"LiHulin\", \"LinXiaojing\")\n",
    "update_data(\"XuFengwei\", \"YuNiankun\", 21, 14, \"LiuChengqi\", \"ZouSiwei\")\n",
    "update_data(\"XuFengwei\", \"YuNiankun\", 21, 19, \"LiuChengqi\", \"ZouSiwei\")\n",
    "update_data(\"LyuCheqiu\", \"LiHulin\", 6, 21)\n",
    "update_data(\"LyuCheqiu\", \"LiHulin\", 8, 21)\n",
    "update_data(\"YuNiankun\", \"ZuoPei\", 18, 21, \"WangHuimei\", \"LinXiaojing\")\n",
    "update_data(\"YuNiankun\", \"ZuoPei\", 14, 21, \"WangHuimei\", \"LinXiaojing\")\n",
    "update_data(\"XuFengwei\", \"ZhangLulu\", 18, 21, \"HuangQifeng\", \"SunShengxiu\")\n",
    "update_data(\"XuFengwei\", \"ZhangLulu\", 21, 12, \"HuangQifeng\", \"SunShengxiu\")\n",
    "update_data(\"XuFengwei\", \"ZhangLulu\", 21, 17, \"HuangQifeng\", \"SunShengxiu\")\n",
    "update_data(\"XueZihan\", \"Alex\", 14, 21, \"ShiYangfan\", \"XuFuxiang\")\n",
    "update_data(\"XueZihan\", \"Alex\", 10, 21, \"ShiYangfan\", \"XuFuxiang\")\n",
    "update_data(\"ZhuRui\", \"ChenSiyuan\", 24, 22, \"XuFuxiang\", \"YinGaocheng\")\n",
    "update_data(\"ZhuRui\", \"ChenSiyuan\", 8, 21, \"XuFuxiang\", \"YinGaocheng\")\n",
    "update_data(\"ZhuRui\", \"ChenSiyuan\", 8, 21, \"XuFuxiang\", \"YinGaocheng\")\n",
    "\n",
    "# 5/9\n",
    "update_data(\"Alex\", \"ZhangLulu\",9,21)\n",
    "update_data(\"PanZhiwei\", \"YinGaocheng\", 21, 15, \"XuFuxiang\", \"SunShengxiu\")\n",
    "update_data(\"XuFengwei\", \"FuShuqi\", 21, 13, \"WangShun\", \"WangHuimei\")\n",
    "\n",
    "# 5/11\n",
    "update_data(\"XuFengwei\", \"PanZhiwei\", 16, 21)\n",
    "\n",
    "# 5/16\n",
    "update_data(\"PanZhiwei\", \"LiuChengqi\",21,13)\n",
    "update_data(\"PanZhiwei\", \"LiuChengqi\",21,8)\n",
    "update_data(\"XuFuxiang\", \"ShiYangfan\",10,21)\n",
    "update_data(\"XuFuxiang\", \"ShiYangfan\",11,21)\n",
    "add_player(\"FengQikang\",84.37)\n",
    "del_player(\"PangYuxuan\")\n",
    "\n",
    "# 5/17\n",
    "update_data(\"PanZhiwei\", \"XuFuxiang\",21,18,\"WangShun\", \"LyuCheqiu\")\n",
    "update_data(\"PanZhiwei\", \"XuFuxiang\",13,21,\"WangShun\", \"LyuCheqiu\")\n",
    "update_data(\"PanZhiwei\", \"XuFuxiang\",21,19,\"WangShun\", \"LyuCheqiu\")\n",
    "update_data(\"PanZhiwei\", \"XuFuxiang\",15,21,\"WangShun\", \"ZouSiwei\")\n",
    "update_data(\"PanZhiwei\", \"XuFuxiang\",21,19,\"WangShun\", \"ZouSiwei\")\n",
    "update_data(\"PanZhiwei\", \"XuFuxiang\",16,21,\"WangShun\", \"ZouSiwei\")\n",
    "update_data(\"SunShengxiu\", \"FengQikang\", 23, 21)\n",
    "\n",
    "# 5/25\n",
    "update_data(\"XuFengwei\",\"Alex\",21,9)\n",
    "update_data(\"WangShun\",\"LyuCheqiu\",21,19,\"PanZhiwei\",\"FuShuqi\")\n",
    "update_data(\"XuFengwei\",\"Alex\",11,21,\"PanZhiwei\",\"FuShuqi\")\n",
    "update_data(\"XuFengwei\",\"Alex\",10,21,\"WangShun\",\"LyuCheqiu\")\n",
    "update_data(\"WangShun\",\"ZouSiwei\",21,19,\"PanZhiwei\",\"FuShuqi\")\n",
    "update_data(\"WangShun\",\"XuFengwei\",15,21,\"PanZhiwei\",\"FuShuqi\")\n",
    "update_data(\"LyuCheqiu\",\"Alex\",21,8)\n",
    "update_data(\"XuFengwei\",\"Alex\",15,21,\"WangShun\",\"LyuCheqiu\")\n",
    "update_data(\"WangShun\",\"ZouSiwei\",16,21,\"PanZhiwei\",\"FuShuqi\")\n",
    "update_data(\"XuFengwei\",\"Alex\",12,21,\"PanZhiwei\",\"LyuCheqiu\")\n",
    "update_data(\"XuFengwei\",\"ZouSiwei\",8,21,\"PanZhiwei\",\"FuShuqi\")\n",
    "update_data(\"XuFengwei\",\"Alex\",12,21,\"PanZhiwei\",\"LyuCheqiu\")\n",
    "update_data(\"WangShun\",\"ZouSiwei\",18,21,\"PanZhiwei\",\"FuShuqi\")\n",
    "\n",
    "# 5/31\n",
    "update_data(\"PanZhiwei\",\"WangShun\",12,21)\n",
    "update_data(\"PanZhiwei\",\"WangShun\",15,21)\n",
    "update_data(\"PanZhiwei\",\"FuShuqi\",21,14,\"WangShun\",\"LiuChengqi\")\n",
    "update_data(\"PanZhiwei\",\"FuShuqi\",19,21,\"WangShun\",\"LiuChengqi\")\n",
    "update_data(\"PanZhiwei\",\"FuShuqi\",21, 1,\"SunShengxiu\",\"FengQikang\")\n",
    "update_data(\"ShiYangfan\",\"LyuCheqiu\",21,17)\n",
    "update_data(\"ShiYangfan\",\"LyuCheqiu\",21,10)\n",
    "update_data(\"Alex\",\"FengQikang\",12,21)\n",
    "update_data(\"Alex\",\"SunShengxiu\",10,21)\n",
    "update_data(\"HuangQifeng\",\"XuFuxiang\",21,10)\n",
    "update_data(\"PanZhiwei\",\"FuShuqi\",21,16,\"WangShun\",\"ShiYangfan\")\n",
    "update_data(\"PanZhiwei\",\"FuShuqi\",21,15,\"WangShun\",\"HuangQifeng\")\n",
    "update_data(\"PanZhiwei\",\"XuFengwei\",21,17)"
   ]
  }
 ],
 "metadata": {
  "kernelspec": {
   "display_name": "Python 3 (ipykernel)",
   "language": "python",
   "name": "python3"
  },
  "language_info": {
   "codemirror_mode": {
    "name": "ipython",
    "version": 3
   },
   "file_extension": ".py",
   "mimetype": "text/x-python",
   "name": "python",
   "nbconvert_exporter": "python",
   "pygments_lexer": "ipython3",
   "version": "3.9.12"
  }
 },
 "nbformat": 4,
 "nbformat_minor": 5
}
