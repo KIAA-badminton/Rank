{
 "cells": [
  {
   "cell_type": "markdown",
   "id": "2e58ce65-ff4a-447a-81f6-12b6c159359f",
   "metadata": {},
   "source": [
    "## .csv to .npy"
   ]
  },
  {
   "cell_type": "code",
   "execution_count": 62,
   "id": "01433aa6-3067-495f-923f-7849c2946890",
   "metadata": {
    "execution": {
     "iopub.execute_input": "2023-05-10T11:31:17.741874Z",
     "iopub.status.busy": "2023-05-10T11:31:17.741392Z",
     "iopub.status.idle": "2023-05-10T11:31:17.750967Z",
     "shell.execute_reply": "2023-05-10T11:31:17.750441Z",
     "shell.execute_reply.started": "2023-05-10T11:31:17.741827Z"
    },
    "tags": []
   },
   "outputs": [],
   "source": [
    "data = pd.read_csv(\"data.csv\")\n",
    "dict1 = dict(zip(data['name'],data['score']))\n",
    "np.save('kiaa_bmt_data.npy', dict1)"
   ]
  },
  {
   "cell_type": "markdown",
   "id": "69a1ce2e-363c-4272-9c5d-676abd8fd969",
   "metadata": {},
   "source": [
    "## main"
   ]
  },
  {
   "cell_type": "code",
   "execution_count": 65,
   "id": "8b0f8396-4e5e-4a87-8680-afd9b7623df5",
   "metadata": {
    "execution": {
     "iopub.execute_input": "2023-05-10T11:32:27.082610Z",
     "iopub.status.busy": "2023-05-10T11:32:27.082114Z",
     "iopub.status.idle": "2023-05-10T11:32:27.103205Z",
     "shell.execute_reply": "2023-05-10T11:32:27.102571Z",
     "shell.execute_reply.started": "2023-05-10T11:32:27.082564Z"
    },
    "tags": []
   },
   "outputs": [],
   "source": [
    "def lim(x, uplim=20):\n",
    "    '''将得分限制在0～uplim'''\n",
    "    if x > uplim: return uplim\n",
    "    if x < 0:  return 0\n",
    "    return x\n",
    "\n",
    "def get_score_1(p1_score, p2_score, p1_res, p2_res, print=False):\n",
    "    '''\n",
    "    # 用于计算KIAA羽毛球俱乐部积分赛的积分（单打）\n",
    "    # 分数范围：0～100\n",
    "    # rank = 分数 / 10\n",
    "    # Parameters\n",
    "        p1_score: 比赛前P1的分数\n",
    "        p2_score: 比赛前P2的分数\n",
    "        p1_res  : 对局中P1的得分\n",
    "        p2_res  : 对局中P2的得分\n",
    "    # Returns:\n",
    "        p1_score_new: 比赛后P1的分数\n",
    "        p2_score_new: 比赛后P2的分数\n",
    "    '''\n",
    "    \n",
    "    def K(score):\n",
    "        '''放大系数'''\n",
    "        return 2 - 0.01 * score\n",
    "    \n",
    "    # 超过 20 分计为 20\n",
    "    p1_res = lim(p1_res)\n",
    "    p2_res = lim(p2_res)\n",
    "    \n",
    "    p1_exp = lim(20 + (p1_score - p2_score) / 10 * 4)  # P1的预期得分\n",
    "    p2_exp = lim(20 - (p1_score - p2_score) / 10 * 4)  # P2的预期得分\n",
    "    \n",
    "    # 实际得分和预期的差\n",
    "    dif = (p1_res - p1_exp) - (p2_res - p2_exp)\n",
    "    if print:\n",
    "        print(\"预期比分: {:.1f} : {:.1f}\".format(p1_exp, p2_exp))\n",
    "        print(\"实际比分: {:.1f} : {:.1f}\".format(p1_res, p2_res))\n",
    "    \n",
    "    p1_score_new = lim(p1_score + K(p1_score) * dif, 150)\n",
    "    p2_score_new = lim(p2_score - K(p2_score) * dif, 150)\n",
    "    if print:\n",
    "        print(\"赛后双方的分数变化：\")\n",
    "        print(\"P1: {:.1f} --> {:.1f}\\nP2: {:.1f} --> {:.1f}\".format(p1_score, p1_score_new,\n",
    "                                                                p2_score, p2_score_new))\n",
    "    return p1_score_new, p2_score_new\n",
    "\n",
    "\n",
    "def get_score_2(t1_p1_score, t1_p2_score, t2_p1_score, t2_p2_score, t1_res, t2_res):\n",
    "    '''\n",
    "    # 用于计算双打积分\n",
    "    # Parameters\n",
    "        t1(2)_p1(2)_score: 比赛前Team1(2)中P1(2)的分数\n",
    "        t1(2)_res  : 对局中Team1(2)的得分\n",
    "    # Returns:\n",
    "        t1(2)_p1(2)_score_new: 比赛后Team1(2)中P1(2)的分数\n",
    "    '''\n",
    "    t1 = (t1_p1_score + t1_p2_score) / 2\n",
    "    t2 = (t2_p1_score + t2_p2_score) / 2\n",
    "    t1_new, t2_new = get_score_1(t1, t2, t1_res, t2_res)\n",
    "    \n",
    "    t1_p1_score_new = lim( t1_p1_score + (t1_new - t1) / 2, 150)\n",
    "    t1_p2_score_new = lim( t1_p2_score + (t1_new - t1) / 2, 150)\n",
    "    t2_p1_score_new = lim( t2_p1_score + (t2_new - t2) / 2, 150)\n",
    "    t2_p2_score_new = lim( t2_p2_score + (t2_new - t2) / 2, 150)\n",
    "    \n",
    "    return t1_p1_score_new, t1_p2_score_new, t2_p1_score_new, t2_p2_score_new\n",
    "\n",
    "# 读取以字典形式存储的数据\n",
    "data = np.load(\"kiaa_bmt_data.npy\", allow_pickle=True).item()\n",
    "\n",
    "def update_data(t1_p1, t1_p2, res1, res2, t2_p1=None, t2_p2=None):\n",
    "    '''\n",
    "    # 用于更新数据库中的积分\n",
    "    # Parameters\n",
    "        t1(2)_p1(2): Team1(2)中P1(2)的姓名拼音（单打只有Team1）\n",
    "        res1(2)    : 对局比分\n",
    "    '''\n",
    "    if t2_p1 is None:\n",
    "        data[t1_p1], data[t1_p2] = get_score_1(data[t1_p1], data[t1_p2], res1, res2)\n",
    "    else:\n",
    "        data[t1_p1], data[t1_p2], data[t2_p1], data[t2_p2] = \\\n",
    "        get_score_2(data[t1_p1], data[t1_p2], data[t2_p1], data[t2_p2], res1, res2)\n",
    "    #np.save(\"kiaa_bmt_data.npy\", data)"
   ]
  },
  {
   "cell_type": "code",
   "execution_count": 66,
   "id": "9f5952bc-c185-453c-8b16-2791afdb9e5c",
   "metadata": {
    "execution": {
     "iopub.execute_input": "2023-05-10T11:32:27.313893Z",
     "iopub.status.busy": "2023-05-10T11:32:27.313405Z",
     "iopub.status.idle": "2023-05-10T11:32:27.334370Z",
     "shell.execute_reply": "2023-05-10T11:32:27.333731Z",
     "shell.execute_reply.started": "2023-05-10T11:32:27.313846Z"
    },
    "tags": []
   },
   "outputs": [
    {
     "data": {
      "text/plain": [
       "[('PangYuxuan', 150),\n",
       " ('WangShun', 144.12277193895957),\n",
       " ('PanZhiwei', 138.29564343549657),\n",
       " ('LiuChengqi', 121.17552),\n",
       " ('XuFengwei', 118.54079530803452),\n",
       " ('LiHulin', 117.06650547190928),\n",
       " ('FeiQinyue', 100),\n",
       " ('LyuCheqiu', 85.77508606747385),\n",
       " ('ShiYangfan', 83.0355),\n",
       " ('WangHuimei', 80.57534753352499),\n",
       " ('FuShuqi', 74.81434308169852),\n",
       " ('SunShengxiu', 69.42075585605177),\n",
       " ('HuangQifeng', 67.42906697204378),\n",
       " ('XueZihan', 67.29650000000001),\n",
       " ('YuNiankun', 65.20745177507071),\n",
       " ('XuFuxiang', 60.516588308791114),\n",
       " ('ZhangLulu', 56.98612117544153),\n",
       " ('LinXiaojing', 45.78669559456542),\n",
       " ('ZouSiwei', 41.17552),\n",
       " ('ZuoPei', 36.24189177507071),\n",
       " ('ZhuRui', 24.453197704402598),\n",
       " ('YinGaocheng', 23.7850428602797),\n",
       " ('Alex', 23.78207539705064),\n",
       " ('YueNannan', 10),\n",
       " ('ChenSiyuan', 4.453197704402598)]"
      ]
     },
     "execution_count": 66,
     "metadata": {},
     "output_type": "execute_result"
    }
   ],
   "source": [
    "# 比赛\n",
    "update_data(\"WangShun\", \"FuShuqi\", 21,  8, \"LiHulin\", \"LinXiaojing\")\n",
    "update_data(\"WangShun\", \"FuShuqi\", 21, 13, \"LiHulin\", \"LinXiaojing\")\n",
    "update_data(\"XuFengwei\", \"YuNiankun\", 21, 14, \"LiuChengqi\", \"ZouSiwei\")\n",
    "update_data(\"XuFengwei\", \"YuNiankun\", 21, 19, \"LiuChengqi\", \"ZouSiwei\")\n",
    "update_data(\"LyuCheqiu\", \"LiHulin\", 6, 21)\n",
    "update_data(\"LyuCheqiu\", \"LiHulin\", 8, 21)\n",
    "update_data(\"YuNiankun\", \"ZuoPei\", 18, 21, \"WangHuimei\", \"LinXiaojing\")\n",
    "update_data(\"YuNiankun\", \"ZuoPei\", 14, 21, \"WangHuimei\", \"LinXiaojing\")\n",
    "update_data(\"XuFengwei\", \"ZhangLulu\", 18, 21, \"HuangQifeng\", \"SunShengxiu\")\n",
    "update_data(\"XuFengwei\", \"ZhangLulu\", 21, 12, \"HuangQifeng\", \"SunShengxiu\")\n",
    "update_data(\"XuFengwei\", \"ZhangLulu\", 21, 17, \"HuangQifeng\", \"SunShengxiu\")\n",
    "update_data(\"XueZihan\", \"Alex\", 14, 21, \"ShiYangfan\", \"XuFuxiang\")\n",
    "update_data(\"XueZihan\", \"Alex\", 10, 21, \"ShiYangfan\", \"XuFuxiang\")\n",
    "update_data(\"ZhuRui\", \"ChenSiyuan\", 24, 22, \"XuFuxiang\", \"YinGaocheng\")\n",
    "update_data(\"ZhuRui\", \"ChenSiyuan\", 8, 21, \"XuFuxiang\", \"YinGaocheng\")\n",
    "update_data(\"ZhuRui\", \"ChenSiyuan\", 8, 21, \"XuFuxiang\", \"YinGaocheng\")\n",
    "\n",
    "# 5/9\n",
    "update_data(\"Alex\", \"ZhangLulu\",9,21)\n",
    "update_data(\"PanZhiwei\", \"YinGaocheng\", 21, 15, \"XuFuxiang\", \"SunShengxiu\")\n",
    "update_data(\"XuFengwei\", \"FuShuqi\", 24, 22, \"WangShun\", \"WangHuimei\")\n",
    "\n",
    "sorted(data.items(), key=lambda x:x[1], reverse=1)"
   ]
  },
  {
   "cell_type": "code",
   "execution_count": null,
   "id": "d4235de3-4b3c-4be3-9027-9d57354f3cb3",
   "metadata": {},
   "outputs": [],
   "source": []
  }
 ],
 "metadata": {
  "kernelspec": {
   "display_name": "Python 3 (ipykernel)",
   "language": "python",
   "name": "python3"
  },
  "language_info": {
   "codemirror_mode": {
    "name": "ipython",
    "version": 3
   },
   "file_extension": ".py",
   "mimetype": "text/x-python",
   "name": "python",
   "nbconvert_exporter": "python",
   "pygments_lexer": "ipython3",
   "version": "3.9.12"
  }
 },
 "nbformat": 4,
 "nbformat_minor": 5
}
