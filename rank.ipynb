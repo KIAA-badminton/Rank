{
 "cells": [
  {
   "cell_type": "markdown",
   "id": "69a1ce2e-363c-4272-9c5d-676abd8fd969",
   "metadata": {
    "tags": []
   },
   "source": [
    "## main"
   ]
  },
  {
   "cell_type": "code",
   "execution_count": 1,
   "id": "8b0f8396-4e5e-4a87-8680-afd9b7623df5",
   "metadata": {
    "execution": {
     "iopub.execute_input": "2023-05-17T13:53:25.928339Z",
     "iopub.status.busy": "2023-05-17T13:53:25.927812Z",
     "iopub.status.idle": "2023-05-17T13:53:25.950098Z",
     "shell.execute_reply": "2023-05-17T13:53:25.949452Z",
     "shell.execute_reply.started": "2023-05-17T13:53:25.928280Z"
    },
    "tags": []
   },
   "outputs": [],
   "source": [
    "def lim(x, lolim=0, uplim=21):\n",
    "    '''将得分限制在lolim～uplim'''\n",
    "    if x > uplim: return uplim\n",
    "    if x < lolim: return lolim\n",
    "    return x\n",
    "\n",
    "def get_score_1(p1_score, p2_score, p1_res, p2_res, _print=False):\n",
    "    '''\n",
    "    # 用于计算KIAA羽毛球俱乐部积分赛的积分（单打）\n",
    "    # 分数范围：0～200\n",
    "    # rank = 分数 / 10\n",
    "    # Parameters\n",
    "        p1_score: 比赛前P1的分数\n",
    "        p2_score: 比赛前P2的分数\n",
    "        p1_res  : 对局中P1的得分\n",
    "        p2_res  : 对局中P2的得分\n",
    "    # Returns:\n",
    "        p1_score_new: 比赛后P1的分数\n",
    "        p2_score_new: 比赛后P2的分数\n",
    "    '''\n",
    "    \n",
    "    def K(score):\n",
    "        '''放大系数'''\n",
    "        return 2 - 0.01 * score\n",
    "    \n",
    "    # 超过 20 分计为 20\n",
    "    p1_res = lim(p1_res)\n",
    "    p2_res = lim(p2_res)\n",
    "    \n",
    "    p1_exp = lim(21 + (p1_score - p2_score) / 10 * 4, lolim=6)  # P1的预期得分\n",
    "    p2_exp = lim(21 - (p1_score - p2_score) / 10 * 4, lolim=6)  # P2的预期得分\n",
    "    \n",
    "    # 实际得分和预期的差\n",
    "    dif = (p1_res - p1_exp) - (p2_res - p2_exp)\n",
    "    if _print:\n",
    "        print(\"预期比分: {:.1f} : {:.1f}\".format(p1_exp, p2_exp))\n",
    "        print(\"实际比分: {:.1f} : {:.1f}\".format(p1_res, p2_res))\n",
    "    \n",
    "    p1_score_new = lim(p1_score + K(p1_score) * dif, uplim=200)\n",
    "    p2_score_new = lim(p2_score - K(p2_score) * dif, uplim=200)\n",
    "    if _print:\n",
    "        print(\"赛后双方的分数变化：\")\n",
    "        print(\"P1: {:.1f} --> {:.1f}\\nP2: {:.1f} --> {:.1f}\".format(p1_score, p1_score_new,\n",
    "                                                                p2_score, p2_score_new))\n",
    "    return p1_score_new, p2_score_new\n",
    "\n",
    "\n",
    "def get_score_2(t1_p1_score, t1_p2_score, t2_p1_score, t2_p2_score, t1_res, t2_res):\n",
    "    '''\n",
    "    # 用于计算双打积分\n",
    "    # Parameters\n",
    "        t1(2)_p1(2)_score: 比赛前Team1(2)中P1(2)的分数\n",
    "        t1(2)_res  : 对局中Team1(2)的得分\n",
    "    # Returns:\n",
    "        t1(2)_p1(2)_score_new: 比赛后Team1(2)中P1(2)的分数\n",
    "    '''\n",
    "    t1 = (t1_p1_score + t1_p2_score) / 2\n",
    "    t2 = (t2_p1_score + t2_p2_score) / 2\n",
    "    t1_new, t2_new = get_score_1(t1, t2, t1_res, t2_res)\n",
    "    \n",
    "    t1_p1_score_new = lim( t1_p1_score + (t1_new - t1) / 2, uplim=200)\n",
    "    t1_p2_score_new = lim( t1_p2_score + (t1_new - t1) / 2, uplim=200)\n",
    "    t2_p1_score_new = lim( t2_p1_score + (t2_new - t2) / 2, uplim=200)\n",
    "    t2_p2_score_new = lim( t2_p2_score + (t2_new - t2) / 2, uplim=200)\n",
    "    \n",
    "    return t1_p1_score_new, t1_p2_score_new, t2_p1_score_new, t2_p2_score_new\n",
    "\n",
    "\n",
    "def update_data(t1_p1, t1_p2, res1, res2, t2_p1=None, t2_p2=None):\n",
    "    '''\n",
    "    # 用于更新数据库中的积分\n",
    "    # Parameters\n",
    "        t1(2)_p1(2): Team1(2)中P1(2)的姓名拼音（单打只有Team1）\n",
    "        res1(2)    : 对局比分\n",
    "    '''\n",
    "    if t2_p1 is None:\n",
    "        data[t1_p1], data[t1_p2] = get_score_1(data[t1_p1], data[t1_p2], res1, res2)\n",
    "    else:\n",
    "        data[t1_p1], data[t1_p2], data[t2_p1], data[t2_p2] = \\\n",
    "        get_score_2(data[t1_p1], data[t1_p2], data[t2_p1], data[t2_p2], res1, res2)\n",
    "    np.save(\"kiaa_bmt_data.npy\", data)\n",
    "    \n",
    "def add_player(name, score):\n",
    "    data[name] = score\n",
    "    np.save(\"kiaa_bmt_data.npy\", data)\n",
    "    \n",
    "def del_player(name):\n",
    "    del data[name]\n",
    "    np.save(\"kiaa_bmt_data.npy\", data)"
   ]
  },
  {
   "cell_type": "code",
   "execution_count": 8,
   "id": "46fe393e-5ff2-4d0c-98f7-303507f8a11f",
   "metadata": {
    "execution": {
     "iopub.execute_input": "2023-05-17T14:04:06.844203Z",
     "iopub.status.busy": "2023-05-17T14:04:06.843696Z",
     "iopub.status.idle": "2023-05-17T14:04:06.850185Z",
     "shell.execute_reply": "2023-05-17T14:04:06.849357Z",
     "shell.execute_reply.started": "2023-05-17T14:04:06.844156Z"
    },
    "tags": []
   },
   "outputs": [],
   "source": [
    "# 读取以字典形式存储的数据 (May)\n",
    "data = np.load(\"kiaa_bmt_data00.npy\", allow_pickle=True).item()"
   ]
  },
  {
   "cell_type": "code",
   "execution_count": 9,
   "id": "5167e833-ed75-4132-bf74-e46e6c0f0106",
   "metadata": {
    "execution": {
     "iopub.execute_input": "2023-05-17T14:04:07.391535Z",
     "iopub.status.busy": "2023-05-17T14:04:07.391027Z",
     "iopub.status.idle": "2023-05-17T14:04:07.422118Z",
     "shell.execute_reply": "2023-05-17T14:04:07.421665Z",
     "shell.execute_reply.started": "2023-05-17T14:04:07.391489Z"
    },
    "tags": []
   },
   "outputs": [
    {
     "data": {
      "text/plain": [
       "[('WangShun', 148.8513429152938),\n",
       " ('PanZhiwei', 137.29173148268828),\n",
       " ('XuFengwei', 124.99578792246193),\n",
       " ('LiHulin', 118.56331092500001),\n",
       " ('LiuChengqi', 115.4045295904021),\n",
       " ('FeiQinyue', 100),\n",
       " ('ShiYangfan', 85.210017296641),\n",
       " ('FuShuqi', 79.786672037691),\n",
       " ('LyuCheqiu', 79.33013592325918),\n",
       " ('WangHuimei', 78.54615132370895),\n",
       " ('FengQikang', 76.8483887568896),\n",
       " ('SunShengxiu', 76.68721304555858),\n",
       " ('HuangQifeng', 66.86638237824465),\n",
       " ('XueZihan', 66.279815),\n",
       " ('YuNiankun', 64.5812487929062),\n",
       " ('ZhangLulu', 58.1005929758376),\n",
       " ('XuFuxiang', 55.419765831143565),\n",
       " ('ZouSiwei', 49.769838604272294),\n",
       " ('LinXiaojing', 46.21477418594659),\n",
       " ('ZuoPei', 34.762363792906186),\n",
       " ('YinGaocheng', 25.271768112598),\n",
       " ('ZhuRui', 23.543825117327227),\n",
       " ('Alex', 22.136886553790518),\n",
       " ('YueNannan', 10),\n",
       " ('ChenSiyuan', 3.543825117327227)]"
      ]
     },
     "execution_count": 9,
     "metadata": {},
     "output_type": "execute_result"
    }
   ],
   "source": [
    "# 比赛\n",
    "update_data(\"WangShun\", \"FuShuqi\", 21,  8, \"LiHulin\", \"LinXiaojing\")\n",
    "update_data(\"WangShun\", \"FuShuqi\", 21, 13, \"LiHulin\", \"LinXiaojing\")\n",
    "update_data(\"XuFengwei\", \"YuNiankun\", 21, 14, \"LiuChengqi\", \"ZouSiwei\")\n",
    "update_data(\"XuFengwei\", \"YuNiankun\", 21, 19, \"LiuChengqi\", \"ZouSiwei\")\n",
    "update_data(\"LyuCheqiu\", \"LiHulin\", 6, 21)\n",
    "update_data(\"LyuCheqiu\", \"LiHulin\", 8, 21)\n",
    "update_data(\"YuNiankun\", \"ZuoPei\", 18, 21, \"WangHuimei\", \"LinXiaojing\")\n",
    "update_data(\"YuNiankun\", \"ZuoPei\", 14, 21, \"WangHuimei\", \"LinXiaojing\")\n",
    "update_data(\"XuFengwei\", \"ZhangLulu\", 18, 21, \"HuangQifeng\", \"SunShengxiu\")\n",
    "update_data(\"XuFengwei\", \"ZhangLulu\", 21, 12, \"HuangQifeng\", \"SunShengxiu\")\n",
    "update_data(\"XuFengwei\", \"ZhangLulu\", 21, 17, \"HuangQifeng\", \"SunShengxiu\")\n",
    "update_data(\"XueZihan\", \"Alex\", 14, 21, \"ShiYangfan\", \"XuFuxiang\")\n",
    "update_data(\"XueZihan\", \"Alex\", 10, 21, \"ShiYangfan\", \"XuFuxiang\")\n",
    "update_data(\"ZhuRui\", \"ChenSiyuan\", 24, 22, \"XuFuxiang\", \"YinGaocheng\")\n",
    "update_data(\"ZhuRui\", \"ChenSiyuan\", 8, 21, \"XuFuxiang\", \"YinGaocheng\")\n",
    "update_data(\"ZhuRui\", \"ChenSiyuan\", 8, 21, \"XuFuxiang\", \"YinGaocheng\")\n",
    "\n",
    "# 5/9\n",
    "update_data(\"Alex\", \"ZhangLulu\",9,21)\n",
    "update_data(\"PanZhiwei\", \"YinGaocheng\", 21, 15, \"XuFuxiang\", \"SunShengxiu\")\n",
    "update_data(\"XuFengwei\", \"FuShuqi\", 21, 13, \"WangShun\", \"WangHuimei\")\n",
    "\n",
    "# 5/11\n",
    "update_data(\"XuFengwei\", \"PanZhiwei\", 16, 21)\n",
    "\n",
    "# 5/16\n",
    "update_data(\"PanZhiwei\", \"LiuChengqi\",21,13)\n",
    "update_data(\"PanZhiwei\", \"LiuChengqi\",21,8)\n",
    "update_data(\"XuFuxiang\", \"ShiYangfan\",10,21)\n",
    "update_data(\"XuFuxiang\", \"ShiYangfan\",11,21)\n",
    "add_player(\"FengQikang\",84.37)\n",
    "del_player(\"PangYuxuan\")\n",
    "\n",
    "# 5/17\n",
    "update_data(\"PanZhiwei\", \"XuFuxiang\",21,18,\"WangShun\", \"LyuCheqiu\")\n",
    "update_data(\"PanZhiwei\", \"XuFuxiang\",13,21,\"WangShun\", \"LyuCheqiu\")\n",
    "update_data(\"PanZhiwei\", \"XuFuxiang\",21,19,\"WangShun\", \"LyuCheqiu\")\n",
    "update_data(\"PanZhiwei\", \"XuFuxiang\",15,21,\"WangShun\", \"ZouSiwei\")\n",
    "update_data(\"PanZhiwei\", \"XuFuxiang\",21,19,\"WangShun\", \"ZouSiwei\")\n",
    "update_data(\"PanZhiwei\", \"XuFuxiang\",16,21,\"WangShun\", \"ZouSiwei\")\n",
    "update_data(\"SunShengxiu\", \"FengQikang\", 23, 21)\n",
    "\n",
    "sorted(data.items(), key=lambda x:x[1], reverse=1)"
   ]
  },
  {
   "cell_type": "markdown",
   "id": "2e58ce65-ff4a-447a-81f6-12b6c159359f",
   "metadata": {
    "jp-MarkdownHeadingCollapsed": true,
    "tags": []
   },
   "source": [
    "## .csv to .npy"
   ]
  },
  {
   "cell_type": "code",
   "execution_count": 62,
   "id": "01433aa6-3067-495f-923f-7849c2946890",
   "metadata": {
    "execution": {
     "iopub.execute_input": "2023-05-10T11:31:17.741874Z",
     "iopub.status.busy": "2023-05-10T11:31:17.741392Z",
     "iopub.status.idle": "2023-05-10T11:31:17.750967Z",
     "shell.execute_reply": "2023-05-10T11:31:17.750441Z",
     "shell.execute_reply.started": "2023-05-10T11:31:17.741827Z"
    },
    "tags": []
   },
   "outputs": [],
   "source": [
    "import pandas as pd\n",
    "import numpy as np\n",
    "\n",
    "data = pd.read_csv(\"data.csv\")\n",
    "dict1 = dict(zip(data['name'],data['score']))\n",
    "np.save('kiaa_bmt_data.npy', dict1)"
   ]
  },
  {
   "cell_type": "markdown",
   "id": "db9116c7-10fa-408d-8fb7-fe5468089633",
   "metadata": {
    "jp-MarkdownHeadingCollapsed": true,
    "tags": []
   },
   "source": [
    "## .npy to .csv"
   ]
  },
  {
   "cell_type": "code",
   "execution_count": 7,
   "id": "d4235de3-4b3c-4be3-9027-9d57354f3cb3",
   "metadata": {
    "execution": {
     "iopub.execute_input": "2023-05-17T13:57:12.331465Z",
     "iopub.status.busy": "2023-05-17T13:57:12.330954Z",
     "iopub.status.idle": "2023-05-17T13:57:12.512344Z",
     "shell.execute_reply": "2023-05-17T13:57:12.512051Z",
     "shell.execute_reply.started": "2023-05-17T13:57:12.331418Z"
    },
    "tags": []
   },
   "outputs": [],
   "source": [
    "import pandas as pd\n",
    "d = pd.DataFrame(columns=[\"Name\", \"Score\"])\n",
    "d[\"Name\"] = data.keys()\n",
    "d[\"Score\"] = np.round(np.fromiter(data.values(), dtype=float), 1)\n",
    "d= d.sort_values(\"Score\", ascending=0)\n",
    "d.to_csv(\"data.csv\", index=None)"
   ]
  },
  {
   "cell_type": "markdown",
   "id": "4af98069-98a3-49c9-8709-7ffa731c2e59",
   "metadata": {
    "execution": {
     "iopub.execute_input": "2023-05-14T06:52:36.203797Z",
     "iopub.status.busy": "2023-05-14T06:52:36.203297Z",
     "iopub.status.idle": "2023-05-14T06:52:36.209493Z",
     "shell.execute_reply": "2023-05-14T06:52:36.208917Z",
     "shell.execute_reply.started": "2023-05-14T06:52:36.203750Z"
    },
    "jp-MarkdownHeadingCollapsed": true,
    "tags": []
   },
   "source": [
    "## github"
   ]
  },
  {
   "cell_type": "code",
   "execution_count": 10,
   "id": "855446b0-9bf4-4d92-b8c0-acf67e6ea04c",
   "metadata": {
    "collapsed": true,
    "execution": {
     "iopub.execute_input": "2023-05-17T14:21:17.875446Z",
     "iopub.status.busy": "2023-05-17T14:21:17.874955Z",
     "iopub.status.idle": "2023-05-17T14:21:17.883898Z",
     "shell.execute_reply": "2023-05-17T14:21:17.883386Z",
     "shell.execute_reply.started": "2023-05-17T14:21:17.875401Z"
    },
    "jupyter": {
     "outputs_hidden": true
    },
    "tags": []
   },
   "outputs": [
    {
     "name": "stdout",
     "output_type": "stream",
     "text": [
      "WangShun 148.9 \n",
      "\n",
      "PanZhiwei 137.3 \n",
      "\n",
      "XuFengwei 125.0 \n",
      "\n",
      "LiHulin 118.6 \n",
      "\n",
      "LiuChengqi 115.4 \n",
      "\n",
      "FeiQinyue 100 \n",
      "\n",
      "ShiYangfan 85.2 \n",
      "\n",
      "FuShuqi 79.8 \n",
      "\n",
      "LyuCheqiu 79.3 \n",
      "\n",
      "WangHuimei 78.5 \n",
      "\n",
      "FengQikang 76.8 \n",
      "\n",
      "SunShengxiu 76.7 \n",
      "\n",
      "HuangQifeng 66.9 \n",
      "\n",
      "XueZihan 66.3 \n",
      "\n",
      "YuNiankun 64.6 \n",
      "\n",
      "ZhangLulu 58.1 \n",
      "\n",
      "XuFuxiang 55.4 \n",
      "\n",
      "ZouSiwei 49.8 \n",
      "\n",
      "LinXiaojing 46.2 \n",
      "\n",
      "ZuoPei 34.8 \n",
      "\n",
      "YinGaocheng 25.3 \n",
      "\n",
      "ZhuRui 23.5 \n",
      "\n",
      "Alex 22.1 \n",
      "\n",
      "YueNannan 10 \n",
      "\n",
      "ChenSiyuan 3.5 \n",
      "\n"
     ]
    }
   ],
   "source": [
    "for i in sorted(data.items(), key=lambda x:x[1], reverse=1):\n",
    "    print(i[0], round(i[1],1), \"\\n\")"
   ]
  },
  {
   "cell_type": "code",
   "execution_count": null,
   "id": "6cea51ac-ead8-4ef2-a49e-afc434902192",
   "metadata": {},
   "outputs": [],
   "source": []
  }
 ],
 "metadata": {
  "kernelspec": {
   "display_name": "Python 3 (ipykernel)",
   "language": "python",
   "name": "python3"
  },
  "language_info": {
   "codemirror_mode": {
    "name": "ipython",
    "version": 3
   },
   "file_extension": ".py",
   "mimetype": "text/x-python",
   "name": "python",
   "nbconvert_exporter": "python",
   "pygments_lexer": "ipython3",
   "version": "3.9.12"
  }
 },
 "nbformat": 4,
 "nbformat_minor": 5
}
